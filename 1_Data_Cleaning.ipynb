{
  "nbformat": 4,
  "nbformat_minor": 0,
  "metadata": {
    "colab": {
      "provenance": [],
      "authorship_tag": "ABX9TyP9VZx3x2fCKxHqb5j4xuHJ",
      "include_colab_link": true
    },
    "kernelspec": {
      "name": "python3",
      "display_name": "Python 3"
    },
    "language_info": {
      "name": "python"
    }
  },
  "cells": [
    {
      "cell_type": "markdown",
      "metadata": {
        "id": "view-in-github",
        "colab_type": "text"
      },
      "source": [
        "<a href=\"https://colab.research.google.com/github/les1smore/Maryland_Statewide_Vehicle_Analysis_2020-2021/blob/main/1_Data_Cleaning.ipynb\" target=\"_parent\"><img src=\"https://colab.research.google.com/assets/colab-badge.svg\" alt=\"Open In Colab\"/></a>"
      ]
    },
    {
      "cell_type": "markdown",
      "metadata": {
        "id": "hFLF-jqIp5Lb"
      },
      "source": [
        "# 1. Data Cleaning"
      ]
    },
    {
      "cell_type": "code",
      "execution_count": null,
      "metadata": {
        "id": "q5EMc0clp5Lc"
      },
      "outputs": [],
      "source": [
        "import pandas as pd\n",
        "import numpy as np\n",
        "import seaborn as sns\n",
        "import matplotlib.pyplot as plt\n",
        "from datetime import datetime\n",
        "from datetime import date\n",
        "from numpy import asarray\n"
      ]
    },
    {
      "cell_type": "code",
      "execution_count": null,
      "metadata": {
        "id": "xYEsNWyAp5Lf"
      },
      "outputs": [],
      "source": [
        "person = pd.read_csv('dataset/cleaned-person.csv')\n",
        "crash = pd.read_csv('dataset/cleaned-crash.csv')\n",
        "vehicle = pd.read_csv('dataset/cleaned-vehicle.csv')"
      ]
    },
    {
      "cell_type": "code",
      "execution_count": null,
      "metadata": {
        "id": "Xt1Ij2Ixp5Lf"
      },
      "outputs": [],
      "source": [
        "merged_data = pd.read_csv('dataset/merged-data.csv')"
      ]
    },
    {
      "cell_type": "markdown",
      "metadata": {
        "id": "2u_FMatkp5Lg"
      },
      "source": [
        "## 1.1 Take a look at the datatype - merged data"
      ]
    },
    {
      "cell_type": "code",
      "execution_count": null,
      "metadata": {
        "colab": {
          "base_uri": "https://localhost:8080/",
          "height": 1000
        },
        "id": "8DXDF3h2p5Lg",
        "outputId": "80611b38-4459-41ab-ddc5-df28b4b2e04c"
      },
      "outputs": [
        {
          "data": {
            "text/html": [
              "<div>\n",
              "<style scoped>\n",
              "    .dataframe tbody tr th:only-of-type {\n",
              "        vertical-align: middle;\n",
              "    }\n",
              "\n",
              "    .dataframe tbody tr th {\n",
              "        vertical-align: top;\n",
              "    }\n",
              "\n",
              "    .dataframe thead th {\n",
              "        text-align: right;\n",
              "    }\n",
              "</style>\n",
              "<table border=\"1\" class=\"dataframe\">\n",
              "  <thead>\n",
              "    <tr style=\"text-align: right;\">\n",
              "      <th></th>\n",
              "      <th>Data Name</th>\n",
              "      <th>Data Type</th>\n",
              "    </tr>\n",
              "  </thead>\n",
              "  <tbody>\n",
              "    <tr>\n",
              "      <th>0</th>\n",
              "      <td>REPORT_NO</td>\n",
              "      <td>object</td>\n",
              "    </tr>\n",
              "    <tr>\n",
              "      <th>1</th>\n",
              "      <td>QUARTER</td>\n",
              "      <td>object</td>\n",
              "    </tr>\n",
              "    <tr>\n",
              "      <th>2</th>\n",
              "      <td>LIGHT_DESC</td>\n",
              "      <td>object</td>\n",
              "    </tr>\n",
              "    <tr>\n",
              "      <th>3</th>\n",
              "      <td>COUNTY_DESC</td>\n",
              "      <td>object</td>\n",
              "    </tr>\n",
              "    <tr>\n",
              "      <th>4</th>\n",
              "      <td>COLLISION_TYPE_DESC</td>\n",
              "      <td>object</td>\n",
              "    </tr>\n",
              "    <tr>\n",
              "      <th>5</th>\n",
              "      <td>SURF_COND_DESC</td>\n",
              "      <td>object</td>\n",
              "    </tr>\n",
              "    <tr>\n",
              "      <th>6</th>\n",
              "      <td>REPORT_TYPE</td>\n",
              "      <td>object</td>\n",
              "    </tr>\n",
              "    <tr>\n",
              "      <th>7</th>\n",
              "      <td>WEATHER_DESC</td>\n",
              "      <td>object</td>\n",
              "    </tr>\n",
              "    <tr>\n",
              "      <th>8</th>\n",
              "      <td>HARM_EVENT_DESC1</td>\n",
              "      <td>object</td>\n",
              "    </tr>\n",
              "    <tr>\n",
              "      <th>9</th>\n",
              "      <td>HARM_EVENT_DESC2</td>\n",
              "      <td>object</td>\n",
              "    </tr>\n",
              "    <tr>\n",
              "      <th>10</th>\n",
              "      <td>ACC_DATE</td>\n",
              "      <td>int64</td>\n",
              "    </tr>\n",
              "    <tr>\n",
              "      <th>11</th>\n",
              "      <td>ACC_TIME</td>\n",
              "      <td>object</td>\n",
              "    </tr>\n",
              "    <tr>\n",
              "      <th>12</th>\n",
              "      <td>LATITUDE</td>\n",
              "      <td>float64</td>\n",
              "    </tr>\n",
              "    <tr>\n",
              "      <th>13</th>\n",
              "      <td>LONGITUDE</td>\n",
              "      <td>float64</td>\n",
              "    </tr>\n",
              "    <tr>\n",
              "      <th>14</th>\n",
              "      <td>SEX_DESC</td>\n",
              "      <td>object</td>\n",
              "    </tr>\n",
              "    <tr>\n",
              "      <th>15</th>\n",
              "      <td>SEX_CODE</td>\n",
              "      <td>object</td>\n",
              "    </tr>\n",
              "    <tr>\n",
              "      <th>16</th>\n",
              "      <td>INJ_SEVER_DESC</td>\n",
              "      <td>object</td>\n",
              "    </tr>\n",
              "    <tr>\n",
              "      <th>17</th>\n",
              "      <td>ALCOHOL_TEST_DESC</td>\n",
              "      <td>object</td>\n",
              "    </tr>\n",
              "    <tr>\n",
              "      <th>18</th>\n",
              "      <td>ALCOHOL_TESTTYPE_DESC</td>\n",
              "      <td>object</td>\n",
              "    </tr>\n",
              "    <tr>\n",
              "      <th>19</th>\n",
              "      <td>DRUG_TEST_DESC</td>\n",
              "      <td>object</td>\n",
              "    </tr>\n",
              "    <tr>\n",
              "      <th>20</th>\n",
              "      <td>DRUG_TESTRESULT_DESC</td>\n",
              "      <td>object</td>\n",
              "    </tr>\n",
              "    <tr>\n",
              "      <th>21</th>\n",
              "      <td>EJECT_DESC</td>\n",
              "      <td>object</td>\n",
              "    </tr>\n",
              "    <tr>\n",
              "      <th>22</th>\n",
              "      <td>SAF_EQUIP_DESC</td>\n",
              "      <td>object</td>\n",
              "    </tr>\n",
              "    <tr>\n",
              "      <th>23</th>\n",
              "      <td>DATE_OF_BIRTH</td>\n",
              "      <td>float64</td>\n",
              "    </tr>\n",
              "    <tr>\n",
              "      <th>24</th>\n",
              "      <td>AIRBAG_DEPLOYED</td>\n",
              "      <td>float64</td>\n",
              "    </tr>\n",
              "    <tr>\n",
              "      <th>25</th>\n",
              "      <td>YEAR</td>\n",
              "      <td>int64</td>\n",
              "    </tr>\n",
              "    <tr>\n",
              "      <th>26</th>\n",
              "      <td>HARM_EVENT_DESC</td>\n",
              "      <td>object</td>\n",
              "    </tr>\n",
              "    <tr>\n",
              "      <th>27</th>\n",
              "      <td>VEH_YEAR</td>\n",
              "      <td>float64</td>\n",
              "    </tr>\n",
              "    <tr>\n",
              "      <th>28</th>\n",
              "      <td>VEH_MAKE</td>\n",
              "      <td>object</td>\n",
              "    </tr>\n",
              "    <tr>\n",
              "      <th>29</th>\n",
              "      <td>GOING_DIRECTION_DESC</td>\n",
              "      <td>object</td>\n",
              "    </tr>\n",
              "    <tr>\n",
              "      <th>30</th>\n",
              "      <td>SPEED_LIMIT</td>\n",
              "      <td>int64</td>\n",
              "    </tr>\n",
              "    <tr>\n",
              "      <th>31</th>\n",
              "      <td>HIT_AND_RUN_FLAG_DESC</td>\n",
              "      <td>object</td>\n",
              "    </tr>\n",
              "  </tbody>\n",
              "</table>\n",
              "</div>"
            ],
            "text/plain": [
              "                Data Name Data Type\n",
              "0               REPORT_NO    object\n",
              "1                 QUARTER    object\n",
              "2              LIGHT_DESC    object\n",
              "3             COUNTY_DESC    object\n",
              "4     COLLISION_TYPE_DESC    object\n",
              "5          SURF_COND_DESC    object\n",
              "6             REPORT_TYPE    object\n",
              "7            WEATHER_DESC    object\n",
              "8        HARM_EVENT_DESC1    object\n",
              "9        HARM_EVENT_DESC2    object\n",
              "10               ACC_DATE     int64\n",
              "11               ACC_TIME    object\n",
              "12               LATITUDE   float64\n",
              "13              LONGITUDE   float64\n",
              "14               SEX_DESC    object\n",
              "15               SEX_CODE    object\n",
              "16         INJ_SEVER_DESC    object\n",
              "17      ALCOHOL_TEST_DESC    object\n",
              "18  ALCOHOL_TESTTYPE_DESC    object\n",
              "19         DRUG_TEST_DESC    object\n",
              "20   DRUG_TESTRESULT_DESC    object\n",
              "21             EJECT_DESC    object\n",
              "22         SAF_EQUIP_DESC    object\n",
              "23          DATE_OF_BIRTH   float64\n",
              "24        AIRBAG_DEPLOYED   float64\n",
              "25                   YEAR     int64\n",
              "26        HARM_EVENT_DESC    object\n",
              "27               VEH_YEAR   float64\n",
              "28               VEH_MAKE    object\n",
              "29   GOING_DIRECTION_DESC    object\n",
              "30            SPEED_LIMIT     int64\n",
              "31  HIT_AND_RUN_FLAG_DESC    object"
            ]
          },
          "execution_count": 4,
          "metadata": {},
          "output_type": "execute_result"
        }
      ],
      "source": [
        "dtype_merged = merged_data.dtypes.reset_index()\n",
        "dtype_merged.columns = ['Data Name', 'Data Type']\n",
        "dtype_merged"
      ]
    },
    {
      "cell_type": "markdown",
      "metadata": {
        "id": "wxT8Nyqrp5Lh"
      },
      "source": [
        "## 1.2 Transform date of birth to age "
      ]
    },
    {
      "cell_type": "code",
      "execution_count": null,
      "metadata": {
        "colab": {
          "base_uri": "https://localhost:8080/"
        },
        "id": "HRTSq-JGp5Lh",
        "outputId": "1bd0e009-c1a1-4382-8baf-daa1c3fd881d"
      },
      "outputs": [
        {
          "data": {
            "text/plain": [
              "dtype('float64')"
            ]
          },
          "execution_count": 5,
          "metadata": {},
          "output_type": "execute_result"
        }
      ],
      "source": [
        "# Take a look at the original date of birth data type\n",
        "merged_data.DATE_OF_BIRTH.dtype"
      ]
    },
    {
      "cell_type": "code",
      "execution_count": null,
      "metadata": {
        "id": "xd2Kn-smp5Li"
      },
      "outputs": [],
      "source": [
        "# Convert this variable from float to string, then split the decimal for a tidy format\n",
        "merged_data['DATE_OF_BIRTH'] = merged_data['DATE_OF_BIRTH'].astype(str).apply(lambda x: pd.to_datetime(x.split('.')[0],\n",
        "                                                                  format = '%Y%m%d'))"
      ]
    },
    {
      "cell_type": "code",
      "execution_count": null,
      "metadata": {
        "colab": {
          "base_uri": "https://localhost:8080/"
        },
        "id": "cVCBAY9Dp5Lj",
        "outputId": "c5d5317b-62cd-481e-cf1d-985a1b985a60"
      },
      "outputs": [
        {
          "data": {
            "text/plain": [
              "dtype('<M8[ns]')"
            ]
          },
          "execution_count": 7,
          "metadata": {},
          "output_type": "execute_result"
        }
      ],
      "source": [
        "# Take a look at the data type again, now we are good to go \n",
        "merged_data.DATE_OF_BIRTH.dtype"
      ]
    },
    {
      "cell_type": "code",
      "execution_count": null,
      "metadata": {
        "colab": {
          "base_uri": "https://localhost:8080/"
        },
        "id": "GUriIZfEp5Lj",
        "outputId": "b100f40f-aeff-4988-ed31-6543a2d47001"
      },
      "outputs": [
        {
          "name": "stderr",
          "output_type": "stream",
          "text": [
            "/opt/anaconda3/lib/python3.7/site-packages/ipykernel_launcher.py:2: FutureWarning: The pandas.datetime class is deprecated and will be removed from pandas in a future version. Import from datetime module instead.\n",
            "  \n"
          ]
        }
      ],
      "source": [
        "# Generate the new age column\n",
        "merged_data['age'] = merged_data['DATE_OF_BIRTH'].apply(lambda x: (pd.datetime.now().year - x.year))"
      ]
    },
    {
      "cell_type": "code",
      "execution_count": null,
      "metadata": {
        "colab": {
          "base_uri": "https://localhost:8080/"
        },
        "id": "5frzfkm4p5Lk",
        "outputId": "477c5e25-6eff-4f13-c068-87d7c09efdcd"
      },
      "outputs": [
        {
          "data": {
            "text/plain": [
              "0         46.0\n",
              "1         46.0\n",
              "2         56.0\n",
              "3         56.0\n",
              "4         54.0\n",
              "          ... \n",
              "754287    68.0\n",
              "754288    49.0\n",
              "754289    42.0\n",
              "754290    62.0\n",
              "754291    31.0\n",
              "Name: age, Length: 754292, dtype: float64"
            ]
          },
          "execution_count": 9,
          "metadata": {},
          "output_type": "execute_result"
        }
      ],
      "source": [
        "# # Seems good!\n",
        "merged_data['age']"
      ]
    },
    {
      "cell_type": "markdown",
      "metadata": {
        "id": "Gkun1o_Fp5Lk"
      },
      "source": [
        "## 1.3 Create lists for numerical and categorical data"
      ]
    },
    {
      "cell_type": "code",
      "execution_count": null,
      "metadata": {
        "id": "2iD4WUy6p5Ll"
      },
      "outputs": [],
      "source": [
        "num_var = [feature for feature in merged_data if merged_data[feature].dtypes == 'int' or merged_data[feature].dtypes == 'float']\n",
        "cat_var = [feature for feature in merged_data if merged_data[feature].dtypes == 'object']"
      ]
    },
    {
      "cell_type": "code",
      "execution_count": null,
      "metadata": {
        "colab": {
          "base_uri": "https://localhost:8080/"
        },
        "id": "OZ4_CjG2p5Ll",
        "outputId": "92bba074-799c-44f7-fd8e-f2f011988c0a"
      },
      "outputs": [
        {
          "data": {
            "text/plain": [
              "['ACC_DATE',\n",
              " 'LATITUDE',\n",
              " 'LONGITUDE',\n",
              " 'AIRBAG_DEPLOYED',\n",
              " 'YEAR',\n",
              " 'VEH_YEAR',\n",
              " 'SPEED_LIMIT',\n",
              " 'age']"
            ]
          },
          "execution_count": 11,
          "metadata": {},
          "output_type": "execute_result"
        }
      ],
      "source": [
        "num_var"
      ]
    },
    {
      "cell_type": "code",
      "execution_count": null,
      "metadata": {
        "colab": {
          "base_uri": "https://localhost:8080/"
        },
        "id": "ceVV-Omjp5Ll",
        "outputId": "4002ed42-5e2f-4730-f111-082ab4dead6e"
      },
      "outputs": [
        {
          "data": {
            "text/plain": [
              "['REPORT_NO',\n",
              " 'QUARTER',\n",
              " 'LIGHT_DESC',\n",
              " 'COUNTY_DESC',\n",
              " 'COLLISION_TYPE_DESC',\n",
              " 'SURF_COND_DESC',\n",
              " 'REPORT_TYPE',\n",
              " 'WEATHER_DESC',\n",
              " 'HARM_EVENT_DESC1',\n",
              " 'HARM_EVENT_DESC2',\n",
              " 'ACC_TIME',\n",
              " 'SEX_DESC',\n",
              " 'SEX_CODE',\n",
              " 'INJ_SEVER_DESC',\n",
              " 'ALCOHOL_TEST_DESC',\n",
              " 'ALCOHOL_TESTTYPE_DESC',\n",
              " 'DRUG_TEST_DESC',\n",
              " 'DRUG_TESTRESULT_DESC',\n",
              " 'EJECT_DESC',\n",
              " 'SAF_EQUIP_DESC',\n",
              " 'HARM_EVENT_DESC',\n",
              " 'VEH_MAKE',\n",
              " 'GOING_DIRECTION_DESC',\n",
              " 'HIT_AND_RUN_FLAG_DESC']"
            ]
          },
          "execution_count": 12,
          "metadata": {},
          "output_type": "execute_result"
        }
      ],
      "source": [
        "cat_var"
      ]
    },
    {
      "cell_type": "code",
      "execution_count": null,
      "metadata": {
        "colab": {
          "base_uri": "https://localhost:8080/"
        },
        "id": "y-75yxFEp5Ll",
        "outputId": "d66f82bc-ac09-4174-ee49-886778bdb51d"
      },
      "outputs": [
        {
          "name": "stdout",
          "output_type": "stream",
          "text": [
            "8\n"
          ]
        }
      ],
      "source": [
        "# Remove duplicated values\n",
        "print(merged_data.duplicated().sum())\n",
        "merged_data = merged_data.drop_duplicates()"
      ]
    },
    {
      "cell_type": "code",
      "execution_count": null,
      "metadata": {
        "colab": {
          "base_uri": "https://localhost:8080/",
          "height": 300
        },
        "id": "YgrqKLnKp5Lm",
        "outputId": "ea976abf-8439-429a-9700-757925faea30"
      },
      "outputs": [
        {
          "data": {
            "text/html": [
              "<div>\n",
              "<style scoped>\n",
              "    .dataframe tbody tr th:only-of-type {\n",
              "        vertical-align: middle;\n",
              "    }\n",
              "\n",
              "    .dataframe tbody tr th {\n",
              "        vertical-align: top;\n",
              "    }\n",
              "\n",
              "    .dataframe thead th {\n",
              "        text-align: right;\n",
              "    }\n",
              "</style>\n",
              "<table border=\"1\" class=\"dataframe\">\n",
              "  <thead>\n",
              "    <tr style=\"text-align: right;\">\n",
              "      <th></th>\n",
              "      <th>ACC_DATE</th>\n",
              "      <th>LATITUDE</th>\n",
              "      <th>LONGITUDE</th>\n",
              "      <th>AIRBAG_DEPLOYED</th>\n",
              "      <th>YEAR</th>\n",
              "      <th>VEH_YEAR</th>\n",
              "      <th>SPEED_LIMIT</th>\n",
              "      <th>age</th>\n",
              "    </tr>\n",
              "  </thead>\n",
              "  <tbody>\n",
              "    <tr>\n",
              "      <th>count</th>\n",
              "      <td>7.542840e+05</td>\n",
              "      <td>754284.000000</td>\n",
              "      <td>754284.000000</td>\n",
              "      <td>746964.000000</td>\n",
              "      <td>754284.000000</td>\n",
              "      <td>720028.000000</td>\n",
              "      <td>754284.000000</td>\n",
              "      <td>684925.000000</td>\n",
              "    </tr>\n",
              "    <tr>\n",
              "      <th>mean</th>\n",
              "      <td>2.020519e+07</td>\n",
              "      <td>39.134879</td>\n",
              "      <td>-76.733554</td>\n",
              "      <td>4.888644</td>\n",
              "      <td>2020.456561</td>\n",
              "      <td>2006.988527</td>\n",
              "      <td>35.271675</td>\n",
              "      <td>38.095857</td>\n",
              "    </tr>\n",
              "    <tr>\n",
              "      <th>std</th>\n",
              "      <td>4.926817e+03</td>\n",
              "      <td>0.307276</td>\n",
              "      <td>0.453941</td>\n",
              "      <td>18.255657</td>\n",
              "      <td>0.498110</td>\n",
              "      <td>163.861190</td>\n",
              "      <td>15.505943</td>\n",
              "      <td>18.206038</td>\n",
              "    </tr>\n",
              "    <tr>\n",
              "      <th>min</th>\n",
              "      <td>2.020010e+07</td>\n",
              "      <td>37.000000</td>\n",
              "      <td>-79.989756</td>\n",
              "      <td>0.000000</td>\n",
              "      <td>2020.000000</td>\n",
              "      <td>0.000000</td>\n",
              "      <td>0.000000</td>\n",
              "      <td>0.000000</td>\n",
              "    </tr>\n",
              "    <tr>\n",
              "      <th>25%</th>\n",
              "      <td>2.020070e+07</td>\n",
              "      <td>38.966946</td>\n",
              "      <td>-76.928900</td>\n",
              "      <td>1.000000</td>\n",
              "      <td>2020.000000</td>\n",
              "      <td>2007.000000</td>\n",
              "      <td>25.000000</td>\n",
              "      <td>25.000000</td>\n",
              "    </tr>\n",
              "    <tr>\n",
              "      <th>50%</th>\n",
              "      <td>2.020120e+07</td>\n",
              "      <td>39.212974</td>\n",
              "      <td>-76.708277</td>\n",
              "      <td>1.000000</td>\n",
              "      <td>2020.000000</td>\n",
              "      <td>2013.000000</td>\n",
              "      <td>35.000000</td>\n",
              "      <td>35.000000</td>\n",
              "    </tr>\n",
              "    <tr>\n",
              "      <th>75%</th>\n",
              "      <td>2.021052e+07</td>\n",
              "      <td>39.336406</td>\n",
              "      <td>-76.574513</td>\n",
              "      <td>2.000000</td>\n",
              "      <td>2021.000000</td>\n",
              "      <td>2017.000000</td>\n",
              "      <td>45.000000</td>\n",
              "      <td>51.000000</td>\n",
              "    </tr>\n",
              "    <tr>\n",
              "      <th>max</th>\n",
              "      <td>2.021093e+07</td>\n",
              "      <td>39.994802</td>\n",
              "      <td>-75.000747</td>\n",
              "      <td>99.000000</td>\n",
              "      <td>2021.000000</td>\n",
              "      <td>9999.000000</td>\n",
              "      <td>75.000000</td>\n",
              "      <td>121.000000</td>\n",
              "    </tr>\n",
              "  </tbody>\n",
              "</table>\n",
              "</div>"
            ],
            "text/plain": [
              "           ACC_DATE       LATITUDE      LONGITUDE  AIRBAG_DEPLOYED  \\\n",
              "count  7.542840e+05  754284.000000  754284.000000    746964.000000   \n",
              "mean   2.020519e+07      39.134879     -76.733554         4.888644   \n",
              "std    4.926817e+03       0.307276       0.453941        18.255657   \n",
              "min    2.020010e+07      37.000000     -79.989756         0.000000   \n",
              "25%    2.020070e+07      38.966946     -76.928900         1.000000   \n",
              "50%    2.020120e+07      39.212974     -76.708277         1.000000   \n",
              "75%    2.021052e+07      39.336406     -76.574513         2.000000   \n",
              "max    2.021093e+07      39.994802     -75.000747        99.000000   \n",
              "\n",
              "                YEAR       VEH_YEAR    SPEED_LIMIT            age  \n",
              "count  754284.000000  720028.000000  754284.000000  684925.000000  \n",
              "mean     2020.456561    2006.988527      35.271675      38.095857  \n",
              "std         0.498110     163.861190      15.505943      18.206038  \n",
              "min      2020.000000       0.000000       0.000000       0.000000  \n",
              "25%      2020.000000    2007.000000      25.000000      25.000000  \n",
              "50%      2020.000000    2013.000000      35.000000      35.000000  \n",
              "75%      2021.000000    2017.000000      45.000000      51.000000  \n",
              "max      2021.000000    9999.000000      75.000000     121.000000  "
            ]
          },
          "execution_count": 14,
          "metadata": {},
          "output_type": "execute_result"
        }
      ],
      "source": [
        "# Generate descriptive statistics on the merged dataset\n",
        "merged_data.describe()"
      ]
    }
  ]
}